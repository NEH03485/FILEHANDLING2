{
  "nbformat": 4,
  "nbformat_minor": 0,
  "metadata": {
    "colab": {
      "provenance": []
    },
    "kernelspec": {
      "name": "python3",
      "display_name": "Python 3"
    },
    "language_info": {
      "name": "python"
    }
  },
  "cells": [
    {
      "cell_type": "markdown",
      "source": [
        "Q1. Difference between interpreted and compiled languages\n",
        "\n",
        "-> Compiled: Whole program is converted into machine code first, then run. (Faster, e.g., C, C++).\n",
        "\n",
        "-> Interpreted: Runs line by line by an interpreter. (Slower, but easier, e.g., Python).\n",
        "\n",
        "Q2. What is exception handling in Python?\n",
        "\n",
        "-. A way to handle errors in a program without stopping it.\n",
        "\n",
        "-> Done using try and except.\n",
        "\n",
        "Q3. Purpose of finally block\n",
        "\n",
        "-> Code inside finally always runs (error or no error).\n",
        "\n",
        "-> Mostly used for closing files or cleaning up resources.\n",
        "\n",
        "Q4. What is logging in Python?\n",
        "\n",
        "-> Logging means keeping a record of what the program is doing.\n",
        "\n",
        "-> Helps in debugging and error tracking.\n",
        "\n",
        "Q5. What is __del__ method?\n",
        "\n",
        "-> A special method (destructor).\n",
        "\n",
        "-> Runs when an object is deleted.\n",
        "\n",
        "-> Used to release memory or resources.\n",
        "\n",
        "Q6. Difference between import and from … import\n",
        "\n",
        "-> import math → need to write math.sqrt(9).\n",
        "\n",
        "-> from math import sqrt → can directly write sqrt(9).\n",
        "\n",
        "Q7. Handling multiple exceptions\n",
        "\n",
        "-> Use multiple except blocks for different errors.\n",
        "\n",
        "-> Or catch many errors together in one block.\n",
        "\n",
        "Q8. Purpose of with statement in file handling\n",
        "\n",
        "->Automatically closes the file after use.\n",
        "\n",
        "-> Safer and shorter than normal open() and close().\n",
        "\n",
        "Q9. Difference between multithreading and multiprocessing\n",
        "\n",
        "-> Multithreading: Many threads inside one program (share memory). Good for I/O tasks.\n",
        "\n",
        "-> Multiprocessing: Many processes (separate memory). Good for CPU-heavy work.\n",
        "\n",
        "Q10. Advantages of logging\n",
        "\n",
        "-> Saves program messages.\n",
        "\n",
        "-> Helps to find errors later.\n",
        "\n",
        "-> Can keep track of program steps.\n",
        "\n",
        "Q11. What is memory management in Python?\n",
        "\n",
        "-> Python gives memory automatically when we create objects and frees memory when not needed.\n",
        "\n",
        "Q12. Steps of exception handling\n",
        "\n",
        "-> Write risky code in try.\n",
        "\n",
        "-> Handle error in except.\n",
        "\n",
        "-> else → runs if no error.\n",
        "\n",
        "-> finally → always runs.\n",
        "\n",
        "Q13. Why is memory management important?\n",
        "\n",
        "-> Saves memory space.\n",
        "\n",
        "-> Prevents program from slowing down.\n",
        "\n",
        "-> Avoids memory leaks.\n",
        "\n",
        "Q14. Role of try and except\n",
        "\n",
        "-> try: Code that may give error.\n",
        "\n",
        "-> except: What to do if error happens.\n",
        "\n",
        "Q15. How Python garbage collection works?\n",
        "\n",
        "-> Python uses reference counting (counts how many times object is used).\n",
        "\n",
        "-> If no reference, memory is freed.\n",
        "\n",
        "-> Also removes cycles (objects referring each other).\n",
        "\n",
        "Q16. Purpose of else block in exception handling\n",
        "\n",
        "-> else runs only when no error occurs in try.\n",
        "\n",
        "Q17. Common logging levels\n",
        "\n",
        "-> DEBUG → detailed info\n",
        "\n",
        "-> INFO → general info\n",
        "\n",
        "-> WARNING → possible issue\n",
        "\n",
        "-> ERROR → error occurred\n",
        "\n",
        "-> CRITICAL → serious error\n",
        "\n",
        "Q18. Difference between os.fork() and multiprocessing\n",
        "\n",
        "-> os.fork() → low-level, Unix only.\n",
        "\n",
        "-> multiprocessing → high-level, cross-platform, easier to use.\n",
        "\n",
        "Q19. Why close a file?\n",
        "\n",
        "-> Saves data properly.\n",
        "\n",
        "-> Frees resources.\n",
        "\n",
        "-> Avoids data loss.\n",
        "\n",
        "Q20. Difference between file.read() and file.readline()\n",
        "\n",
        "-> read() → reads whole file.\n",
        "\n",
        "-> readline() → reads only one line.\n",
        "\n",
        "Q21. Purpose of logging module\n",
        "\n",
        "-> Used to record messages (info, warning, error).\n",
        "\n",
        "-> Helps in debugging and monitoring programs.\n",
        "\n",
        "Q22. Purpose of os module in file handling\n",
        "\n",
        "-> Helps to work with files and folders.\n",
        "\n",
        "-> Example: check if file exists, create/remove folder.\n",
        "\n",
        "Q23. Challenges in memory management\n",
        "\n",
        "-> Sometimes objects stay in memory even if not used.\n",
        "\n",
        "-> Cyclic references.\n",
        "\n",
        "-> Large objects can cause memory issues.\n",
        "\n",
        "Q24. How to raise an exception manually?\n",
        "\n",
        "-> Use raise ExceptionType(\"message\").\n",
        "\n",
        "-> Example: raise ValueError(\"Invalid input\").\n",
        "\n",
        "Q25. Why use multithreading?\n",
        "\n",
        "-> For tasks like downloading, file handling, waiting for input.\n",
        "\n",
        "\n",
        "\n"
      ],
      "metadata": {
        "id": "YmkQV6J429yU"
      }
    },
    {
      "cell_type": "code",
      "source": [],
      "metadata": {
        "id": "FBA155Jx28a_"
      },
      "execution_count": null,
      "outputs": []
    },
    {
      "cell_type": "code",
      "execution_count": 1,
      "metadata": {
        "colab": {
          "base_uri": "https://localhost:8080/"
        },
        "id": "Gr8uFinn1NEO",
        "outputId": "1e3dc48f-6234-4f93-ce6d-d1ec419d42d4"
      },
      "outputs": [
        {
          "output_type": "stream",
          "name": "stdout",
          "text": [
            "Done! File created and text written.\n"
          ]
        }
      ],
      "source": [
        "# Q26: Write a string to a file\n",
        "\n",
        "file = open(\"output.txt\", \"w\")   # open file in write mode\n",
        "file.write(\"Hello, this is my first file in Python!\")  # write string\n",
        "file.close()  # close file\n",
        "\n",
        "print(\"Done! File created and text written.\")\n"
      ]
    },
    {
      "cell_type": "code",
      "source": [
        "# Q27: Read file line by line\n",
        "\n",
        "file = open(\"input.txt\", \"r\")   # open file in read mode\n",
        "\n",
        "for line in file:               # loop through each line\n",
        "    print(line.strip())         # strip removes \\n at the end\n",
        "\n",
        "file.close()\n"
      ],
      "metadata": {
        "colab": {
          "base_uri": "https://localhost:8080/",
          "height": 211
        },
        "id": "E2EZ4P-11eSf",
        "outputId": "3b149565-c109-4ee7-9795-7303b2f940a9"
      },
      "execution_count": 29,
      "outputs": [
        {
          "output_type": "error",
          "ename": "FileNotFoundError",
          "evalue": "[Errno 2] No such file or directory: 'input.txt'",
          "traceback": [
            "\u001b[0;31m---------------------------------------------------------------------------\u001b[0m",
            "\u001b[0;31mFileNotFoundError\u001b[0m                         Traceback (most recent call last)",
            "\u001b[0;32m/tmp/ipython-input-2855154643.py\u001b[0m in \u001b[0;36m<cell line: 0>\u001b[0;34m()\u001b[0m\n\u001b[1;32m      1\u001b[0m \u001b[0;31m# Q27: Read file line by line\u001b[0m\u001b[0;34m\u001b[0m\u001b[0;34m\u001b[0m\u001b[0m\n\u001b[1;32m      2\u001b[0m \u001b[0;34m\u001b[0m\u001b[0m\n\u001b[0;32m----> 3\u001b[0;31m \u001b[0mfile\u001b[0m \u001b[0;34m=\u001b[0m \u001b[0mopen\u001b[0m\u001b[0;34m(\u001b[0m\u001b[0;34m\"input.txt\"\u001b[0m\u001b[0;34m,\u001b[0m \u001b[0;34m\"r\"\u001b[0m\u001b[0;34m)\u001b[0m   \u001b[0;31m# open file in read mode\u001b[0m\u001b[0;34m\u001b[0m\u001b[0;34m\u001b[0m\u001b[0m\n\u001b[0m\u001b[1;32m      4\u001b[0m \u001b[0;34m\u001b[0m\u001b[0m\n\u001b[1;32m      5\u001b[0m \u001b[0;32mfor\u001b[0m \u001b[0mline\u001b[0m \u001b[0;32min\u001b[0m \u001b[0mfile\u001b[0m\u001b[0;34m:\u001b[0m               \u001b[0;31m# loop through each line\u001b[0m\u001b[0;34m\u001b[0m\u001b[0;34m\u001b[0m\u001b[0m\n",
            "\u001b[0;31mFileNotFoundError\u001b[0m: [Errno 2] No such file or directory: 'input.txt'"
          ]
        }
      ]
    },
    {
      "cell_type": "code",
      "source": [
        "# Q28: Handle missing file\n",
        "\n",
        "try:\n",
        "    file = open(\"missing.txt\", \"r\")\n",
        "    print(file.read())\n",
        "    file.close()\n",
        "except FileNotFoundError:\n",
        "    print(\"The file does not exist!\")\n"
      ],
      "metadata": {
        "colab": {
          "base_uri": "https://localhost:8080/"
        },
        "id": "YekV0s_R1gMb",
        "outputId": "782242af-4625-45ea-a3b0-c12cd173b279"
      },
      "execution_count": 3,
      "outputs": [
        {
          "output_type": "stream",
          "name": "stdout",
          "text": [
            "The file does not exist!\n"
          ]
        }
      ]
    },
    {
      "cell_type": "code",
      "source": [
        "# Q29: Copy contents\n",
        "\n",
        "source = open(\"source.txt\", \"r\")\n",
        "dest = open(\"dest.txt\", \"w\")\n",
        "\n",
        "for line in source:\n",
        "    dest.write(line)\n",
        "\n",
        "source.close()\n",
        "dest.close()\n",
        "\n",
        "print(\"File copied successfully.\")\n"
      ],
      "metadata": {
        "colab": {
          "base_uri": "https://localhost:8080/",
          "height": 211
        },
        "id": "mmTPAski1jgX",
        "outputId": "bec5d212-cbc0-47fa-bd5d-2976899a9f2c"
      },
      "execution_count": 30,
      "outputs": [
        {
          "output_type": "error",
          "ename": "FileNotFoundError",
          "evalue": "[Errno 2] No such file or directory: 'source.txt'",
          "traceback": [
            "\u001b[0;31m---------------------------------------------------------------------------\u001b[0m",
            "\u001b[0;31mFileNotFoundError\u001b[0m                         Traceback (most recent call last)",
            "\u001b[0;32m/tmp/ipython-input-1992808847.py\u001b[0m in \u001b[0;36m<cell line: 0>\u001b[0;34m()\u001b[0m\n\u001b[1;32m      1\u001b[0m \u001b[0;31m# Q29: Copy contents\u001b[0m\u001b[0;34m\u001b[0m\u001b[0;34m\u001b[0m\u001b[0m\n\u001b[1;32m      2\u001b[0m \u001b[0;34m\u001b[0m\u001b[0m\n\u001b[0;32m----> 3\u001b[0;31m \u001b[0msource\u001b[0m \u001b[0;34m=\u001b[0m \u001b[0mopen\u001b[0m\u001b[0;34m(\u001b[0m\u001b[0;34m\"source.txt\"\u001b[0m\u001b[0;34m,\u001b[0m \u001b[0;34m\"r\"\u001b[0m\u001b[0;34m)\u001b[0m\u001b[0;34m\u001b[0m\u001b[0;34m\u001b[0m\u001b[0m\n\u001b[0m\u001b[1;32m      4\u001b[0m \u001b[0mdest\u001b[0m \u001b[0;34m=\u001b[0m \u001b[0mopen\u001b[0m\u001b[0;34m(\u001b[0m\u001b[0;34m\"dest.txt\"\u001b[0m\u001b[0;34m,\u001b[0m \u001b[0;34m\"w\"\u001b[0m\u001b[0;34m)\u001b[0m\u001b[0;34m\u001b[0m\u001b[0;34m\u001b[0m\u001b[0m\n\u001b[1;32m      5\u001b[0m \u001b[0;34m\u001b[0m\u001b[0m\n",
            "\u001b[0;31mFileNotFoundError\u001b[0m: [Errno 2] No such file or directory: 'source.txt'"
          ]
        }
      ]
    },
    {
      "cell_type": "code",
      "source": [
        "# Q30: Division by zero handling\n",
        "\n",
        "try:\n",
        "    result = 10 / 0\n",
        "except ZeroDivisionError:\n",
        "    print(\"You cannot divide by zero!\")\n"
      ],
      "metadata": {
        "colab": {
          "base_uri": "https://localhost:8080/"
        },
        "id": "88slNsrj1mO_",
        "outputId": "ea926673-5f4e-4848-e3d1-1124fd0440bf"
      },
      "execution_count": 5,
      "outputs": [
        {
          "output_type": "stream",
          "name": "stdout",
          "text": [
            "You cannot divide by zero!\n"
          ]
        }
      ]
    },
    {
      "cell_type": "code",
      "source": [
        "# Q31: Logging division error\n",
        "\n",
        "import logging\n",
        "\n",
        "logging.basicConfig(filename=\"app.log\", level=logging.ERROR)\n",
        "\n",
        "try:\n",
        "    x = 5 / 0\n",
        "except ZeroDivisionError:\n",
        "    logging.error(\"Division by zero occurred!\")\n",
        "    print(\"Error logged into app.log\")\n"
      ],
      "metadata": {
        "colab": {
          "base_uri": "https://localhost:8080/"
        },
        "id": "nrtvhT3k1ome",
        "outputId": "5441fb56-77fe-4af4-8df8-1142c1da2771"
      },
      "execution_count": 6,
      "outputs": [
        {
          "output_type": "stream",
          "name": "stderr",
          "text": [
            "ERROR:root:Division by zero occurred!\n"
          ]
        },
        {
          "output_type": "stream",
          "name": "stdout",
          "text": [
            "Error logged into app.log\n"
          ]
        }
      ]
    },
    {
      "cell_type": "code",
      "source": [
        "# Q32: Logging at different levels\n",
        "\n",
        "import logging\n",
        "\n",
        "logging.basicConfig(filename=\"events.log\", level=logging.DEBUG)\n",
        "\n",
        "logging.info(\"Program started\")\n",
        "logging.warning(\"This is a warning\")\n",
        "logging.error(\"An error occurred\")\n"
      ],
      "metadata": {
        "colab": {
          "base_uri": "https://localhost:8080/"
        },
        "id": "hD51kUSI1rDO",
        "outputId": "3140bf55-5375-43cd-fc55-59c48fa79114"
      },
      "execution_count": 7,
      "outputs": [
        {
          "output_type": "stream",
          "name": "stderr",
          "text": [
            "WARNING:root:This is a warning\n",
            "ERROR:root:An error occurred\n"
          ]
        }
      ]
    },
    {
      "cell_type": "code",
      "source": [
        "# Q33: Handle file error\n",
        "\n",
        "filename = \"data.txt\"\n",
        "\n",
        "try:\n",
        "    f = open(filename, \"r\")\n",
        "    print(f.read())\n",
        "    f.close()\n",
        "except OSError as e:\n",
        "    print(\"Error opening file:\", e)\n"
      ],
      "metadata": {
        "colab": {
          "base_uri": "https://localhost:8080/"
        },
        "id": "LUE_GBUn1uGb",
        "outputId": "aa8388e0-6aa2-403d-caaf-f171eb981495"
      },
      "execution_count": 8,
      "outputs": [
        {
          "output_type": "stream",
          "name": "stdout",
          "text": [
            "Error opening file: [Errno 2] No such file or directory: 'data.txt'\n"
          ]
        }
      ]
    },
    {
      "cell_type": "code",
      "source": [
        "# Q34: Store lines in a list\n",
        "\n",
        "file = open(\"data.txt\", \"r\")\n",
        "lines = file.readlines()  # read all lines into a list\n",
        "file.close()\n",
        "\n",
        "print(lines)\n"
      ],
      "metadata": {
        "colab": {
          "base_uri": "https://localhost:8080/",
          "height": 211
        },
        "id": "vaLeLPkk1xOa",
        "outputId": "ffff2f3b-69a3-4c6b-cc4a-92ee993f922b"
      },
      "execution_count": 27,
      "outputs": [
        {
          "output_type": "error",
          "ename": "FileNotFoundError",
          "evalue": "[Errno 2] No such file or directory: 'data.txt'",
          "traceback": [
            "\u001b[0;31m---------------------------------------------------------------------------\u001b[0m",
            "\u001b[0;31mFileNotFoundError\u001b[0m                         Traceback (most recent call last)",
            "\u001b[0;32m/tmp/ipython-input-2743249982.py\u001b[0m in \u001b[0;36m<cell line: 0>\u001b[0;34m()\u001b[0m\n\u001b[1;32m      1\u001b[0m \u001b[0;31m# Q34: Store lines in a list\u001b[0m\u001b[0;34m\u001b[0m\u001b[0;34m\u001b[0m\u001b[0m\n\u001b[1;32m      2\u001b[0m \u001b[0;34m\u001b[0m\u001b[0m\n\u001b[0;32m----> 3\u001b[0;31m \u001b[0mfile\u001b[0m \u001b[0;34m=\u001b[0m \u001b[0mopen\u001b[0m\u001b[0;34m(\u001b[0m\u001b[0;34m\"data.txt\"\u001b[0m\u001b[0;34m,\u001b[0m \u001b[0;34m\"r\"\u001b[0m\u001b[0;34m)\u001b[0m\u001b[0;34m\u001b[0m\u001b[0;34m\u001b[0m\u001b[0m\n\u001b[0m\u001b[1;32m      4\u001b[0m \u001b[0mlines\u001b[0m \u001b[0;34m=\u001b[0m \u001b[0mfile\u001b[0m\u001b[0;34m.\u001b[0m\u001b[0mreadlines\u001b[0m\u001b[0;34m(\u001b[0m\u001b[0;34m)\u001b[0m  \u001b[0;31m# read all lines into a list\u001b[0m\u001b[0;34m\u001b[0m\u001b[0;34m\u001b[0m\u001b[0m\n\u001b[1;32m      5\u001b[0m \u001b[0mfile\u001b[0m\u001b[0;34m.\u001b[0m\u001b[0mclose\u001b[0m\u001b[0;34m(\u001b[0m\u001b[0;34m)\u001b[0m\u001b[0;34m\u001b[0m\u001b[0;34m\u001b[0m\u001b[0m\n",
            "\u001b[0;31mFileNotFoundError\u001b[0m: [Errno 2] No such file or directory: 'data.txt'"
          ]
        }
      ]
    },
    {
      "cell_type": "code",
      "source": [
        "# Q35: Append to a file\n",
        "\n",
        "file = open(\"log.txt\", \"a\")\n",
        "file.write(\"This is a new line\\n\")\n",
        "file.close()\n",
        "\n",
        "print(\"Data appended successfully.\")\n"
      ],
      "metadata": {
        "colab": {
          "base_uri": "https://localhost:8080/"
        },
        "id": "EDeDEIav10BG",
        "outputId": "ca69e174-872b-4ce2-835f-2b157d182153"
      },
      "execution_count": 10,
      "outputs": [
        {
          "output_type": "stream",
          "name": "stdout",
          "text": [
            "Data appended successfully.\n"
          ]
        }
      ]
    },
    {
      "cell_type": "code",
      "source": [
        "# Q36: Handle missing dictionary key\n",
        "\n",
        "data = {\"a\": 1, \"b\": 2}\n",
        "\n",
        "try:\n",
        "    print(data[\"c\"])   # key doesn't exist\n",
        "except KeyError:\n",
        "    print(\"That key is not in the dictionary.\")\n"
      ],
      "metadata": {
        "colab": {
          "base_uri": "https://localhost:8080/"
        },
        "id": "yWUr-9Al12cj",
        "outputId": "e095c211-bd07-4c34-b263-13af2e2eb92b"
      },
      "execution_count": 11,
      "outputs": [
        {
          "output_type": "stream",
          "name": "stdout",
          "text": [
            "That key is not in the dictionary.\n"
          ]
        }
      ]
    },
    {
      "cell_type": "code",
      "source": [
        "# Q37: Handle different exceptions\n",
        "\n",
        "try:\n",
        "    nums = [1, 2, 3]\n",
        "    print(nums[5])      # IndexError\n",
        "    x = 10 / 0          # ZeroDivisionError\n",
        "except IndexError:\n",
        "    print(\"Index out of range\")\n",
        "except ZeroDivisionError:\n",
        "    print(\"Cannot divide by zero\")\n"
      ],
      "metadata": {
        "colab": {
          "base_uri": "https://localhost:8080/"
        },
        "id": "eC8hjMs_14nw",
        "outputId": "a48ea180-e3dd-43aa-b0a1-6df85a76d349"
      },
      "execution_count": 12,
      "outputs": [
        {
          "output_type": "stream",
          "name": "stdout",
          "text": [
            "Index out of range\n"
          ]
        }
      ]
    },
    {
      "cell_type": "code",
      "source": [
        "# Q38: Check file existence\n",
        "\n",
        "import os\n",
        "\n",
        "filename = \"maybe.txt\"\n",
        "\n",
        "if os.path.exists(filename):\n",
        "    file = open(filename, \"r\")\n",
        "    print(file.read())\n",
        "    file.close()\n",
        "else:\n",
        "    print(\"File does not exist.\")\n"
      ],
      "metadata": {
        "colab": {
          "base_uri": "https://localhost:8080/"
        },
        "id": "WSS0KdgJ16q2",
        "outputId": "d2335c5d-fd46-4f71-f471-65578a2fb931"
      },
      "execution_count": 13,
      "outputs": [
        {
          "output_type": "stream",
          "name": "stdout",
          "text": [
            "File does not exist.\n"
          ]
        }
      ]
    },
    {
      "cell_type": "code",
      "source": [
        "# Q39: Logging info and error\n",
        "\n",
        "import logging\n",
        "\n",
        "logging.basicConfig(filename=\"mix.log\", level=logging.INFO)\n",
        "\n",
        "logging.info(\"Program started\")\n",
        "\n",
        "try:\n",
        "    1 / 0\n",
        "except ZeroDivisionError:\n",
        "    logging.error(\"Tried to divide by zero\")\n"
      ],
      "metadata": {
        "colab": {
          "base_uri": "https://localhost:8080/"
        },
        "id": "OmEpP22u19HD",
        "outputId": "cca88739-1ecd-463e-e6e8-9496b32819f3"
      },
      "execution_count": 14,
      "outputs": [
        {
          "output_type": "stream",
          "name": "stderr",
          "text": [
            "ERROR:root:Tried to divide by zero\n"
          ]
        }
      ]
    },
    {
      "cell_type": "code",
      "source": [
        "# Q40: Handle empty file\n",
        "\n",
        "filename = \"data.txt\"\n",
        "\n",
        "if os.path.exists(filename):\n",
        "    file = open(filename, \"r\")\n",
        "    content = file.read()\n",
        "    file.close()\n",
        "\n",
        "    if content == \"\":\n",
        "        print(\"File is empty\")\n",
        "    else:\n",
        "        print(content)\n",
        "else:\n",
        "    print(\"File missing\")\n"
      ],
      "metadata": {
        "colab": {
          "base_uri": "https://localhost:8080/"
        },
        "id": "hm15IgQv1_R2",
        "outputId": "f9c3bb02-010d-402e-b627-0bec9dfca30c"
      },
      "execution_count": 15,
      "outputs": [
        {
          "output_type": "stream",
          "name": "stdout",
          "text": [
            "File missing\n"
          ]
        }
      ]
    },
    {
      "cell_type": "code",
      "source": [
        "# Q41: Memory profiling\n",
        "\n",
        "import tracemalloc\n",
        "\n",
        "tracemalloc.start()\n",
        "\n",
        "data = [i*i for i in range(10000)]  # sample work\n",
        "\n",
        "current, peak = tracemalloc.get_traced_memory()\n",
        "print(\"Current memory:\", current, \"bytes\")\n",
        "print(\"Peak memory:\", peak, \"bytes\")\n",
        "\n",
        "tracemalloc.stop()\n"
      ],
      "metadata": {
        "colab": {
          "base_uri": "https://localhost:8080/"
        },
        "id": "TqfMoB3X2BX_",
        "outputId": "c5c8fa05-2ad0-4654-a100-0e043a8a1c43"
      },
      "execution_count": 16,
      "outputs": [
        {
          "output_type": "stream",
          "name": "stdout",
          "text": [
            "Current memory: 405568 bytes\n",
            "Peak memory: 416880 bytes\n"
          ]
        }
      ]
    },
    {
      "cell_type": "code",
      "source": [
        "# Q42: Write numbers to file\n",
        "\n",
        "numbers = [1, 2, 3, 4, 5]\n",
        "\n",
        "file = open(\"numbers.txt\", \"w\")\n",
        "for n in numbers:\n",
        "    file.write(str(n) + \"\\n\")\n",
        "file.close()\n",
        "\n",
        "print(\"Numbers written successfully.\")\n"
      ],
      "metadata": {
        "colab": {
          "base_uri": "https://localhost:8080/"
        },
        "id": "MQWbqXBu2Dkw",
        "outputId": "f0e3a2db-503c-442c-a6a8-c1f9e9bbb46e"
      },
      "execution_count": 17,
      "outputs": [
        {
          "output_type": "stream",
          "name": "stdout",
          "text": [
            "Numbers written successfully.\n"
          ]
        }
      ]
    },
    {
      "cell_type": "code",
      "source": [
        "# Q43: Rotating log file\n",
        "\n",
        "import logging\n",
        "from logging.handlers import RotatingFileHandler\n",
        "\n",
        "logger = logging.getLogger(\"app\")\n",
        "logger.setLevel(logging.INFO)\n",
        "\n",
        "handler = RotatingFileHandler(\"rotating.log\", maxBytes=1000, backupCount=2)\n",
        "logger.addHandler(handler)\n",
        "\n",
        "logger.info(\"This is an info message\")\n"
      ],
      "metadata": {
        "colab": {
          "base_uri": "https://localhost:8080/"
        },
        "id": "k2cPphn02Feu",
        "outputId": "ddb6fc70-8c65-4c8a-8c91-1e5f78cff5d0"
      },
      "execution_count": 18,
      "outputs": [
        {
          "output_type": "stream",
          "name": "stderr",
          "text": [
            "INFO:app:This is an info message\n"
          ]
        }
      ]
    },
    {
      "cell_type": "code",
      "source": [
        "# Q44: Handle two exceptions\n",
        "\n",
        "data = {\"x\": 10}\n",
        "arr = [1, 2, 3]\n",
        "\n",
        "try:\n",
        "    print(arr[10]) + data[\"y\"]\n",
        "except (IndexError, KeyError):\n",
        "    print(\"Either index is wrong or key is missing.\")\n"
      ],
      "metadata": {
        "colab": {
          "base_uri": "https://localhost:8080/"
        },
        "id": "PdP29v5R2HXC",
        "outputId": "9c7ca5ff-19b2-44f6-e977-bf86bc6e91e7"
      },
      "execution_count": 19,
      "outputs": [
        {
          "output_type": "stream",
          "name": "stdout",
          "text": [
            "Either index is wrong or key is missing.\n"
          ]
        }
      ]
    },
    {
      "cell_type": "code",
      "source": [
        "# Q45: Using with for file\n",
        "\n",
        "with open(\"sample.txt\", \"r\") as f:\n",
        "    content = f.read()\n",
        "\n",
        "print(content)\n"
      ],
      "metadata": {
        "colab": {
          "base_uri": "https://localhost:8080/",
          "height": 211
        },
        "id": "PhhHTHWk2JSi",
        "outputId": "59cca18f-bd9e-4e8c-a7d4-ec83692a5f65"
      },
      "execution_count": 25,
      "outputs": [
        {
          "output_type": "error",
          "ename": "FileNotFoundError",
          "evalue": "[Errno 2] No such file or directory: 'sample.txt'",
          "traceback": [
            "\u001b[0;31m---------------------------------------------------------------------------\u001b[0m",
            "\u001b[0;31mFileNotFoundError\u001b[0m                         Traceback (most recent call last)",
            "\u001b[0;32m/tmp/ipython-input-3253554681.py\u001b[0m in \u001b[0;36m<cell line: 0>\u001b[0;34m()\u001b[0m\n\u001b[1;32m      1\u001b[0m \u001b[0;31m# Q45: Using with for file\u001b[0m\u001b[0;34m\u001b[0m\u001b[0;34m\u001b[0m\u001b[0m\n\u001b[1;32m      2\u001b[0m \u001b[0;34m\u001b[0m\u001b[0m\n\u001b[0;32m----> 3\u001b[0;31m \u001b[0;32mwith\u001b[0m \u001b[0mopen\u001b[0m\u001b[0;34m(\u001b[0m\u001b[0;34m\"sample.txt\"\u001b[0m\u001b[0;34m,\u001b[0m \u001b[0;34m\"r\"\u001b[0m\u001b[0;34m)\u001b[0m \u001b[0;32mas\u001b[0m \u001b[0mf\u001b[0m\u001b[0;34m:\u001b[0m\u001b[0;34m\u001b[0m\u001b[0;34m\u001b[0m\u001b[0m\n\u001b[0m\u001b[1;32m      4\u001b[0m     \u001b[0mcontent\u001b[0m \u001b[0;34m=\u001b[0m \u001b[0mf\u001b[0m\u001b[0;34m.\u001b[0m\u001b[0mread\u001b[0m\u001b[0;34m(\u001b[0m\u001b[0;34m)\u001b[0m\u001b[0;34m\u001b[0m\u001b[0;34m\u001b[0m\u001b[0m\n\u001b[1;32m      5\u001b[0m \u001b[0;34m\u001b[0m\u001b[0m\n",
            "\u001b[0;31mFileNotFoundError\u001b[0m: [Errno 2] No such file or directory: 'sample.txt'"
          ]
        }
      ]
    },
    {
      "cell_type": "code",
      "source": [
        "# Q46: Count word in file\n",
        "\n",
        "word = \"python\"\n",
        "\n",
        "file = open(\"essay.txt\", \"r\")\n",
        "text = file.read().lower()\n",
        "file.close()\n",
        "\n",
        "count = text.split().count(word.lower())\n",
        "\n",
        "print(\"Word found\", count, \"times.\")\n"
      ],
      "metadata": {
        "colab": {
          "base_uri": "https://localhost:8080/",
          "height": 211
        },
        "id": "V0pVet7W2LaT",
        "outputId": "0f59bcca-7074-45c9-91a1-94236659cdef"
      },
      "execution_count": 24,
      "outputs": [
        {
          "output_type": "error",
          "ename": "FileNotFoundError",
          "evalue": "[Errno 2] No such file or directory: 'essay.txt'",
          "traceback": [
            "\u001b[0;31m---------------------------------------------------------------------------\u001b[0m",
            "\u001b[0;31mFileNotFoundError\u001b[0m                         Traceback (most recent call last)",
            "\u001b[0;32m/tmp/ipython-input-2298376532.py\u001b[0m in \u001b[0;36m<cell line: 0>\u001b[0;34m()\u001b[0m\n\u001b[1;32m      3\u001b[0m \u001b[0mword\u001b[0m \u001b[0;34m=\u001b[0m \u001b[0;34m\"python\"\u001b[0m\u001b[0;34m\u001b[0m\u001b[0;34m\u001b[0m\u001b[0m\n\u001b[1;32m      4\u001b[0m \u001b[0;34m\u001b[0m\u001b[0m\n\u001b[0;32m----> 5\u001b[0;31m \u001b[0mfile\u001b[0m \u001b[0;34m=\u001b[0m \u001b[0mopen\u001b[0m\u001b[0;34m(\u001b[0m\u001b[0;34m\"essay.txt\"\u001b[0m\u001b[0;34m,\u001b[0m \u001b[0;34m\"r\"\u001b[0m\u001b[0;34m)\u001b[0m\u001b[0;34m\u001b[0m\u001b[0;34m\u001b[0m\u001b[0m\n\u001b[0m\u001b[1;32m      6\u001b[0m \u001b[0mtext\u001b[0m \u001b[0;34m=\u001b[0m \u001b[0mfile\u001b[0m\u001b[0;34m.\u001b[0m\u001b[0mread\u001b[0m\u001b[0;34m(\u001b[0m\u001b[0;34m)\u001b[0m\u001b[0;34m.\u001b[0m\u001b[0mlower\u001b[0m\u001b[0;34m(\u001b[0m\u001b[0;34m)\u001b[0m\u001b[0;34m\u001b[0m\u001b[0;34m\u001b[0m\u001b[0m\n\u001b[1;32m      7\u001b[0m \u001b[0mfile\u001b[0m\u001b[0;34m.\u001b[0m\u001b[0mclose\u001b[0m\u001b[0;34m(\u001b[0m\u001b[0;34m)\u001b[0m\u001b[0;34m\u001b[0m\u001b[0;34m\u001b[0m\u001b[0m\n",
            "\u001b[0;31mFileNotFoundError\u001b[0m: [Errno 2] No such file or directory: 'essay.txt'"
          ]
        }
      ]
    },
    {
      "cell_type": "code",
      "source": [
        "# Q47: Empty file check\n",
        "\n",
        "import os\n",
        "\n",
        "filename = \"empty.txt\"\n",
        "\n",
        "if os.path.exists(filename) and os.path.getsize(filename) > 0:\n",
        "    file = open(filename, \"r\")\n",
        "    print(file.read())\n",
        "    file.close()\n",
        "else:\n",
        "    print(\"File is empty or missing\")\n"
      ],
      "metadata": {
        "colab": {
          "base_uri": "https://localhost:8080/"
        },
        "id": "AdGmvWV52NwE",
        "outputId": "eb482c4f-891b-4276-d517-0fb05d98dd44"
      },
      "execution_count": 22,
      "outputs": [
        {
          "output_type": "stream",
          "name": "stdout",
          "text": [
            "File is empty or missing\n"
          ]
        }
      ]
    },
    {
      "cell_type": "code",
      "source": [
        "# Q48: Log file error\n",
        "\n",
        "import logging\n",
        "\n",
        "logging.basicConfig(filename=\"file_errors.log\", level=logging.ERROR)\n",
        "\n",
        "try:\n",
        "    file = open(\"nope.txt\", \"r\")\n",
        "    data = file.read()\n",
        "    file.close()\n",
        "except OSError as e:\n",
        "    logging.error(\"File operation failed: %s\", e)\n",
        "    print(\"Error logged.\")\n"
      ],
      "metadata": {
        "colab": {
          "base_uri": "https://localhost:8080/"
        },
        "id": "XUrP69Gc2RK_",
        "outputId": "613f1c30-d07a-4634-c48e-070542b5075b"
      },
      "execution_count": 23,
      "outputs": [
        {
          "output_type": "stream",
          "name": "stderr",
          "text": [
            "ERROR:root:File operation failed: [Errno 2] No such file or directory: 'nope.txt'\n"
          ]
        },
        {
          "output_type": "stream",
          "name": "stdout",
          "text": [
            "Error logged.\n"
          ]
        }
      ]
    }
  ]
}